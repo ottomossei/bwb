{
 "cells": [
  {
   "cell_type": "code",
   "execution_count": 2,
   "source": [
    "import datetime\r\n",
    "from db import LocalDB\r\n",
    "import customstrategy as cst\r\n",
    "import indicator as indicator\r\n",
    "from backtesting.lib import crossover"
   ],
   "outputs": [],
   "metadata": {}
  },
  {
   "cell_type": "markdown",
   "source": [
    "## Target issue"
   ],
   "metadata": {}
  },
  {
   "cell_type": "code",
   "execution_count": 3,
   "source": [
    "issues = ['AAPL']\r\n",
    "d = LocalDB()"
   ],
   "outputs": [],
   "metadata": {}
  },
  {
   "cell_type": "code",
   "execution_count": 4,
   "source": [
    "# 自分でカスタマイズできるストラテジのクラス\r\n",
    "class MyStrategy(cst.CustomStrategy):\r\n",
    "    # 今回のストラテジで用いるインジケーターの宣言と設定\r\n",
    "    def init(self):\r\n",
    "        self.macd, self.macdsignal = self.I(indicator.macd, self.candle, day_short=9, day_long=26, span=9)\r\n",
    "\r\n",
    "    # 売買設定\r\n",
    "    def next(self):\r\n",
    "        if crossover(self.macd, self.macdsignal):\r\n",
    "            self.buy()\r\n",
    "        elif crossover(self.macdsignal, self.macd):\r\n",
    "            self.position.close()"
   ],
   "outputs": [],
   "metadata": {}
  },
  {
   "cell_type": "code",
   "execution_count": 5,
   "source": [
    "# いくつも定義できる\r\n",
    "class YourStrategy(cst.CustomStrategy):\r\n",
    "    # 今回のストラテジで用いるインジケーターの宣言と設定\r\n",
    "    def init(self):\r\n",
    "        # 利用するMACDの定義\r\n",
    "        self.macd, self.macdsignal = self.I(indicator.macd, self.candle, day_short=9, day_long=26, span=9)\r\n",
    "        # 利用するボリンジャーバンドの定義\r\n",
    "        self.upper, self.lower = self.I(indicator.ci, self.candle, day=20, upper_sigma=1, lower_sigma=1)\r\n",
    "\r\n",
    "    # 売買設定\r\n",
    "    def next(self):\r\n",
    "        if crossover(self.macd, self.macdsignal):\r\n",
    "            self.buy()\r\n",
    "        elif crossover(self.macdsignal, self.macd):\r\n",
    "            if crossover(self.upper, self.data['Close']):\r\n",
    "                self.position.close()"
   ],
   "outputs": [],
   "metadata": {}
  },
  {
   "cell_type": "code",
   "execution_count": 6,
   "source": [
    "# いくつも定義できる\r\n",
    "class Day_5_Before_Strategy(cst.CustomStrategy):\r\n",
    "    # 今回のストラテジで用いるインジケーターの宣言と設定\r\n",
    "    def init(self):\r\n",
    "        # 利用するMACDの定義\r\n",
    "        self.macd, self.macdsignal = self.I(indicator.macd, self.candle, day_short=9, day_long=26, span=9)\r\n",
    "        # 利用するボリンジャーバンドの定義\r\n",
    "        self.upper, self.lower = self.I(indicator.ci, self.candle, day=20, upper_sigma=1, lower_sigma=1)\r\n",
    "\r\n",
    "    # 売買設定\r\n",
    "    def next(self):\r\n",
    "        # print(len(self._indicators[0][0]))\r\n",
    "        if crossover(self.macd, self.macdsignal):\r\n",
    "            self.buy()\r\n",
    "        elif crossover(self.macdsignal, self.macd):\r\n",
    "            # if crossover(self.upper, self.data['Close']):\r\n",
    "            if crossover(self._indicators[1][1][self.today-5], self.data['Close']):\r\n",
    "                self.position.close()\r\n",
    "        super().next()"
   ],
   "outputs": [],
   "metadata": {}
  },
  {
   "cell_type": "code",
   "execution_count": 7,
   "source": [
    "# 銘柄ごとに処理の実行\r\n",
    "for issue in issues:\r\n",
    "    # 計算する銘柄の表示\r\n",
    "    print(issue)\r\n",
    "    candle = d.loader(issue, start = '2020/04/01', end = '2021/06/01')\r\n",
    "    # Mystrategyの実行と保存\r\n",
    "    d.runsaver(MyStrategy, candle, issue)\r\n",
    "    # YourStrategyの実行と保存\r\n",
    "    d.runsaver(YourStrategy, candle, issue)\r\n",
    "    # Day_5_Before_Strategyの実行と保存\r\n",
    "    d.runsaver(Day_5_Before_Strategy, candle, issue)"
   ],
   "outputs": [
    {
     "output_type": "stream",
     "name": "stdout",
     "text": [
      "AAPL\n",
      "[*********************100%***********************]  1 of 1 completed\n",
      "\n",
      "1 Failed download:\n",
      "- AAPL: Invalid input - start date cannot be after end date. startDate = 1622386800, endDate = 1622214000\n",
      "MyStrategy\n"
     ]
    },
    {
     "output_type": "stream",
     "name": "stderr",
     "text": [
      "BokehDeprecationWarning: HSL() was deprecated in Bokeh 2.3.1 and will be removed, use RGB() or named colors instead.\n",
      "BokehDeprecationWarning: HSL() was deprecated in Bokeh 2.3.1 and will be removed, use RGB() or named colors instead.\n",
      "BokehDeprecationWarning: HSL() was deprecated in Bokeh 2.3.1 and will be removed, use RGB() or named colors instead.\n",
      "BokehDeprecationWarning: HSL() was deprecated in Bokeh 2.3.1 and will be removed, use RGB() or named colors instead.\n"
     ]
    },
    {
     "output_type": "stream",
     "name": "stdout",
     "text": [
      "YourStrategy\n"
     ]
    },
    {
     "output_type": "stream",
     "name": "stderr",
     "text": [
      "BokehDeprecationWarning: HSL() was deprecated in Bokeh 2.3.1 and will be removed, use RGB() or named colors instead.\n",
      "BokehDeprecationWarning: HSL() was deprecated in Bokeh 2.3.1 and will be removed, use RGB() or named colors instead.\n",
      "BokehDeprecationWarning: HSL() was deprecated in Bokeh 2.3.1 and will be removed, use RGB() or named colors instead.\n",
      "BokehDeprecationWarning: HSL() was deprecated in Bokeh 2.3.1 and will be removed, use RGB() or named colors instead.\n"
     ]
    },
    {
     "output_type": "stream",
     "name": "stdout",
     "text": [
      "Day_5_Before_Strategy\n"
     ]
    },
    {
     "output_type": "stream",
     "name": "stderr",
     "text": [
      "BokehDeprecationWarning: HSL() was deprecated in Bokeh 2.3.1 and will be removed, use RGB() or named colors instead.\n",
      "BokehDeprecationWarning: HSL() was deprecated in Bokeh 2.3.1 and will be removed, use RGB() or named colors instead.\n",
      "BokehDeprecationWarning: HSL() was deprecated in Bokeh 2.3.1 and will be removed, use RGB() or named colors instead.\n",
      "BokehDeprecationWarning: HSL() was deprecated in Bokeh 2.3.1 and will be removed, use RGB() or named colors instead.\n"
     ]
    }
   ],
   "metadata": {}
  }
 ],
 "metadata": {
  "interpreter": {
   "hash": "da14d72d3487a5c0ff0dc5ce83ab767e065b7e51dcc99a838e2953cc1e025112"
  },
  "kernelspec": {
   "name": "python3",
   "display_name": "Python 3.8.1 64-bit ('bwb': conda)"
  },
  "language_info": {
   "codemirror_mode": {
    "name": "ipython",
    "version": 3
   },
   "file_extension": ".py",
   "mimetype": "text/x-python",
   "name": "python",
   "nbconvert_exporter": "python",
   "pygments_lexer": "ipython3",
   "version": "3.8.1"
  },
  "orig_nbformat": 4
 },
 "nbformat": 4,
 "nbformat_minor": 2
}