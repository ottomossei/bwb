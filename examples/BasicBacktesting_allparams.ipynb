{
 "cells": [
  {
   "cell_type": "code",
   "execution_count": 1,
   "metadata": {},
   "outputs": [],
   "source": [
    "# If you haven't installed the bwb package yet, run the following command\n",
    "# !pip install git+https://github.com/ottomossei/bwb"
   ]
  },
  {
   "cell_type": "markdown",
   "metadata": {},
   "source": [
    "## import modules"
   ]
  },
  {
   "cell_type": "code",
   "execution_count": 2,
   "metadata": {},
   "outputs": [
    {
     "name": "stderr",
     "output_type": "stream",
     "text": [
      "C:\\Users\\hxhto\\anaconda3\\lib\\site-packages\\backtesting\\_plotting.py:45: UserWarning: Jupyter Notebook detected. Setting Bokeh output to notebook. This may not work in Jupyter clients without JavaScript support (e.g. PyCharm, Spyder IDE). Reset with `backtesting.set_bokeh_output(notebook=False)`.\n",
      "  warnings.warn('Jupyter Notebook detected. '\n"
     ]
    },
    {
     "data": {
      "text/html": [
       "\n",
       "    <div class=\"bk-root\">\n",
       "        <a href=\"https://bokeh.org\" target=\"_blank\" class=\"bk-logo bk-logo-small bk-logo-notebook\"></a>\n",
       "        <span id=\"1002\">Loading BokehJS ...</span>\n",
       "    </div>"
      ]
     },
     "metadata": {},
     "output_type": "display_data"
    },
    {
     "data": {
      "application/javascript": "\n(function(root) {\n  function now() {\n    return new Date();\n  }\n\n  var force = true;\n\n  if (typeof root._bokeh_onload_callbacks === \"undefined\" || force === true) {\n    root._bokeh_onload_callbacks = [];\n    root._bokeh_is_loading = undefined;\n  }\n\n  var JS_MIME_TYPE = 'application/javascript';\n  var HTML_MIME_TYPE = 'text/html';\n  var EXEC_MIME_TYPE = 'application/vnd.bokehjs_exec.v0+json';\n  var CLASS_NAME = 'output_bokeh rendered_html';\n\n  /**\n   * Render data to the DOM node\n   */\n  function render(props, node) {\n    var script = document.createElement(\"script\");\n    node.appendChild(script);\n  }\n\n  /**\n   * Handle when an output is cleared or removed\n   */\n  function handleClearOutput(event, handle) {\n    var cell = handle.cell;\n\n    var id = cell.output_area._bokeh_element_id;\n    var server_id = cell.output_area._bokeh_server_id;\n    // Clean up Bokeh references\n    if (id != null && id in Bokeh.index) {\n      Bokeh.index[id].model.document.clear();\n      delete Bokeh.index[id];\n    }\n\n    if (server_id !== undefined) {\n      // Clean up Bokeh references\n      var cmd = \"from bokeh.io.state import curstate; print(curstate().uuid_to_server['\" + server_id + \"'].get_sessions()[0].document.roots[0]._id)\";\n      cell.notebook.kernel.execute(cmd, {\n        iopub: {\n          output: function(msg) {\n            var id = msg.content.text.trim();\n            if (id in Bokeh.index) {\n              Bokeh.index[id].model.document.clear();\n              delete Bokeh.index[id];\n            }\n          }\n        }\n      });\n      // Destroy server and session\n      var cmd = \"import bokeh.io.notebook as ion; ion.destroy_server('\" + server_id + \"')\";\n      cell.notebook.kernel.execute(cmd);\n    }\n  }\n\n  /**\n   * Handle when a new output is added\n   */\n  function handleAddOutput(event, handle) {\n    var output_area = handle.output_area;\n    var output = handle.output;\n\n    // limit handleAddOutput to display_data with EXEC_MIME_TYPE content only\n    if ((output.output_type != \"display_data\") || (!Object.prototype.hasOwnProperty.call(output.data, EXEC_MIME_TYPE))) {\n      return\n    }\n\n    var toinsert = output_area.element.find(\".\" + CLASS_NAME.split(' ')[0]);\n\n    if (output.metadata[EXEC_MIME_TYPE][\"id\"] !== undefined) {\n      toinsert[toinsert.length - 1].firstChild.textContent = output.data[JS_MIME_TYPE];\n      // store reference to embed id on output_area\n      output_area._bokeh_element_id = output.metadata[EXEC_MIME_TYPE][\"id\"];\n    }\n    if (output.metadata[EXEC_MIME_TYPE][\"server_id\"] !== undefined) {\n      var bk_div = document.createElement(\"div\");\n      bk_div.innerHTML = output.data[HTML_MIME_TYPE];\n      var script_attrs = bk_div.children[0].attributes;\n      for (var i = 0; i < script_attrs.length; i++) {\n        toinsert[toinsert.length - 1].firstChild.setAttribute(script_attrs[i].name, script_attrs[i].value);\n        toinsert[toinsert.length - 1].firstChild.textContent = bk_div.children[0].textContent\n      }\n      // store reference to server id on output_area\n      output_area._bokeh_server_id = output.metadata[EXEC_MIME_TYPE][\"server_id\"];\n    }\n  }\n\n  function register_renderer(events, OutputArea) {\n\n    function append_mime(data, metadata, element) {\n      // create a DOM node to render to\n      var toinsert = this.create_output_subarea(\n        metadata,\n        CLASS_NAME,\n        EXEC_MIME_TYPE\n      );\n      this.keyboard_manager.register_events(toinsert);\n      // Render to node\n      var props = {data: data, metadata: metadata[EXEC_MIME_TYPE]};\n      render(props, toinsert[toinsert.length - 1]);\n      element.append(toinsert);\n      return toinsert\n    }\n\n    /* Handle when an output is cleared or removed */\n    events.on('clear_output.CodeCell', handleClearOutput);\n    events.on('delete.Cell', handleClearOutput);\n\n    /* Handle when a new output is added */\n    events.on('output_added.OutputArea', handleAddOutput);\n\n    /**\n     * Register the mime type and append_mime function with output_area\n     */\n    OutputArea.prototype.register_mime_type(EXEC_MIME_TYPE, append_mime, {\n      /* Is output safe? */\n      safe: true,\n      /* Index of renderer in `output_area.display_order` */\n      index: 0\n    });\n  }\n\n  // register the mime type if in Jupyter Notebook environment and previously unregistered\n  if (root.Jupyter !== undefined) {\n    var events = require('base/js/events');\n    var OutputArea = require('notebook/js/outputarea').OutputArea;\n\n    if (OutputArea.prototype.mime_types().indexOf(EXEC_MIME_TYPE) == -1) {\n      register_renderer(events, OutputArea);\n    }\n  }\n\n  \n  if (typeof (root._bokeh_timeout) === \"undefined\" || force === true) {\n    root._bokeh_timeout = Date.now() + 5000;\n    root._bokeh_failed_load = false;\n  }\n\n  var NB_LOAD_WARNING = {'data': {'text/html':\n     \"<div style='background-color: #fdd'>\\n\"+\n     \"<p>\\n\"+\n     \"BokehJS does not appear to have successfully loaded. If loading BokehJS from CDN, this \\n\"+\n     \"may be due to a slow or bad network connection. Possible fixes:\\n\"+\n     \"</p>\\n\"+\n     \"<ul>\\n\"+\n     \"<li>re-rerun `output_notebook()` to attempt to load from CDN again, or</li>\\n\"+\n     \"<li>use INLINE resources instead, as so:</li>\\n\"+\n     \"</ul>\\n\"+\n     \"<code>\\n\"+\n     \"from bokeh.resources import INLINE\\n\"+\n     \"output_notebook(resources=INLINE)\\n\"+\n     \"</code>\\n\"+\n     \"</div>\"}};\n\n  function display_loaded() {\n    var el = document.getElementById(\"1002\");\n    if (el != null) {\n      el.textContent = \"BokehJS is loading...\";\n    }\n    if (root.Bokeh !== undefined) {\n      if (el != null) {\n        el.textContent = \"BokehJS \" + root.Bokeh.version + \" successfully loaded.\";\n      }\n    } else if (Date.now() < root._bokeh_timeout) {\n      setTimeout(display_loaded, 100)\n    }\n  }\n\n\n  function run_callbacks() {\n    try {\n      root._bokeh_onload_callbacks.forEach(function(callback) {\n        if (callback != null)\n          callback();\n      });\n    } finally {\n      delete root._bokeh_onload_callbacks\n    }\n    console.debug(\"Bokeh: all callbacks have finished\");\n  }\n\n  function load_libs(css_urls, js_urls, callback) {\n    if (css_urls == null) css_urls = [];\n    if (js_urls == null) js_urls = [];\n\n    root._bokeh_onload_callbacks.push(callback);\n    if (root._bokeh_is_loading > 0) {\n      console.debug(\"Bokeh: BokehJS is being loaded, scheduling callback at\", now());\n      return null;\n    }\n    if (js_urls == null || js_urls.length === 0) {\n      run_callbacks();\n      return null;\n    }\n    console.debug(\"Bokeh: BokehJS not loaded, scheduling load and callback at\", now());\n    root._bokeh_is_loading = css_urls.length + js_urls.length;\n\n    function on_load() {\n      root._bokeh_is_loading--;\n      if (root._bokeh_is_loading === 0) {\n        console.debug(\"Bokeh: all BokehJS libraries/stylesheets loaded\");\n        run_callbacks()\n      }\n    }\n\n    function on_error(url) {\n      console.error(\"failed to load \" + url);\n    }\n\n    for (let i = 0; i < css_urls.length; i++) {\n      const url = css_urls[i];\n      const element = document.createElement(\"link\");\n      element.onload = on_load;\n      element.onerror = on_error.bind(null, url);\n      element.rel = \"stylesheet\";\n      element.type = \"text/css\";\n      element.href = url;\n      console.debug(\"Bokeh: injecting link tag for BokehJS stylesheet: \", url);\n      document.body.appendChild(element);\n    }\n\n    const hashes = {\"https://cdn.bokeh.org/bokeh/release/bokeh-2.3.2.min.js\": \"XypntL49z55iwGVUW4qsEu83zKL3XEcz0MjuGOQ9SlaaQ68X/g+k1FcioZi7oQAc\", \"https://cdn.bokeh.org/bokeh/release/bokeh-tables-2.3.2.min.js\": \"bEsM86IHGDTLCS0Zod8a8WM6Y4+lafAL/eSiyQcuPzinmWNgNO2/olUF0Z2Dkn5i\", \"https://cdn.bokeh.org/bokeh/release/bokeh-widgets-2.3.2.min.js\": \"TX0gSQTdXTTeScqxj6PVQxTiRW8DOoGVwinyi1D3kxv7wuxQ02XkOxv0xwiypcAH\"};\n\n    for (let i = 0; i < js_urls.length; i++) {\n      const url = js_urls[i];\n      const element = document.createElement('script');\n      element.onload = on_load;\n      element.onerror = on_error.bind(null, url);\n      element.async = false;\n      element.src = url;\n      if (url in hashes) {\n        element.crossOrigin = \"anonymous\";\n        element.integrity = \"sha384-\" + hashes[url];\n      }\n      console.debug(\"Bokeh: injecting script tag for BokehJS library: \", url);\n      document.head.appendChild(element);\n    }\n  };\n\n  function inject_raw_css(css) {\n    const element = document.createElement(\"style\");\n    element.appendChild(document.createTextNode(css));\n    document.body.appendChild(element);\n  }\n\n  \n  var js_urls = [\"https://cdn.bokeh.org/bokeh/release/bokeh-2.3.2.min.js\", \"https://cdn.bokeh.org/bokeh/release/bokeh-widgets-2.3.2.min.js\", \"https://cdn.bokeh.org/bokeh/release/bokeh-tables-2.3.2.min.js\"];\n  var css_urls = [];\n  \n\n  var inline_js = [\n    function(Bokeh) {\n      Bokeh.set_log_level(\"info\");\n    },\n    function(Bokeh) {\n    \n    \n    }\n  ];\n\n  function run_inline_js() {\n    \n    if (root.Bokeh !== undefined || force === true) {\n      \n    for (var i = 0; i < inline_js.length; i++) {\n      inline_js[i].call(root, root.Bokeh);\n    }\n    if (force === true) {\n        display_loaded();\n      }} else if (Date.now() < root._bokeh_timeout) {\n      setTimeout(run_inline_js, 100);\n    } else if (!root._bokeh_failed_load) {\n      console.log(\"Bokeh: BokehJS failed to load within specified timeout.\");\n      root._bokeh_failed_load = true;\n    } else if (force !== true) {\n      var cell = $(document.getElementById(\"1002\")).parents('.cell').data().cell;\n      cell.output_area.append_execute_result(NB_LOAD_WARNING)\n    }\n\n  }\n\n  if (root._bokeh_is_loading === 0) {\n    console.debug(\"Bokeh: BokehJS loaded, going straight to plotting\");\n    run_inline_js();\n  } else {\n    load_libs(css_urls, js_urls, function() {\n      console.debug(\"Bokeh: BokehJS plotting callback run at\", now());\n      run_inline_js();\n    });\n  }\n}(window));",
      "application/vnd.bokehjs_load.v0+json": ""
     },
     "metadata": {},
     "output_type": "display_data"
    }
   ],
   "source": [
    "import datetime\n",
    "import numpy as np\n",
    "from bwb.db import LocalDB\n",
    "import bwb.basicstrategy as bst\n",
    "import bwb.indicator as indicator"
   ]
  },
  {
   "cell_type": "markdown",
   "metadata": {},
   "source": [
    "## Load candlestick"
   ]
  },
  {
   "cell_type": "code",
   "execution_count": 3,
   "metadata": {},
   "outputs": [
    {
     "name": "stdout",
     "output_type": "stream",
     "text": [
      "[*********************100%***********************]  1 of 1 completed\n"
     ]
    },
    {
     "data": {
      "text/html": [
       "<div>\n",
       "<style scoped>\n",
       "    .dataframe tbody tr th:only-of-type {\n",
       "        vertical-align: middle;\n",
       "    }\n",
       "\n",
       "    .dataframe tbody tr th {\n",
       "        vertical-align: top;\n",
       "    }\n",
       "\n",
       "    .dataframe thead th {\n",
       "        text-align: right;\n",
       "    }\n",
       "</style>\n",
       "<table border=\"1\" class=\"dataframe\">\n",
       "  <thead>\n",
       "    <tr style=\"text-align: right;\">\n",
       "      <th></th>\n",
       "      <th>Date</th>\n",
       "      <th>Open</th>\n",
       "      <th>High</th>\n",
       "      <th>Low</th>\n",
       "      <th>Close</th>\n",
       "      <th>Adj Close</th>\n",
       "      <th>Volume</th>\n",
       "    </tr>\n",
       "    <tr>\n",
       "      <th>Date</th>\n",
       "      <th></th>\n",
       "      <th></th>\n",
       "      <th></th>\n",
       "      <th></th>\n",
       "      <th></th>\n",
       "      <th></th>\n",
       "      <th></th>\n",
       "    </tr>\n",
       "  </thead>\n",
       "  <tbody>\n",
       "    <tr>\n",
       "      <th>2020-01-02</th>\n",
       "      <td>2020-01-02</td>\n",
       "      <td>74.059998</td>\n",
       "      <td>75.150002</td>\n",
       "      <td>73.797501</td>\n",
       "      <td>75.087502</td>\n",
       "      <td>74.207466</td>\n",
       "      <td>135480400.0</td>\n",
       "    </tr>\n",
       "    <tr>\n",
       "      <th>2020-01-03</th>\n",
       "      <td>2020-01-03</td>\n",
       "      <td>74.287498</td>\n",
       "      <td>75.144997</td>\n",
       "      <td>74.125000</td>\n",
       "      <td>74.357498</td>\n",
       "      <td>73.486023</td>\n",
       "      <td>146322800.0</td>\n",
       "    </tr>\n",
       "    <tr>\n",
       "      <th>2020-01-06</th>\n",
       "      <td>2020-01-06</td>\n",
       "      <td>73.447502</td>\n",
       "      <td>74.989998</td>\n",
       "      <td>73.187500</td>\n",
       "      <td>74.949997</td>\n",
       "      <td>74.071579</td>\n",
       "      <td>118387200.0</td>\n",
       "    </tr>\n",
       "    <tr>\n",
       "      <th>2020-01-07</th>\n",
       "      <td>2020-01-07</td>\n",
       "      <td>74.959999</td>\n",
       "      <td>75.224998</td>\n",
       "      <td>74.370003</td>\n",
       "      <td>74.597504</td>\n",
       "      <td>73.723213</td>\n",
       "      <td>108872000.0</td>\n",
       "    </tr>\n",
       "    <tr>\n",
       "      <th>2020-01-08</th>\n",
       "      <td>2020-01-08</td>\n",
       "      <td>74.290001</td>\n",
       "      <td>76.110001</td>\n",
       "      <td>74.290001</td>\n",
       "      <td>75.797501</td>\n",
       "      <td>74.909149</td>\n",
       "      <td>132079200.0</td>\n",
       "    </tr>\n",
       "    <tr>\n",
       "      <th>...</th>\n",
       "      <td>...</td>\n",
       "      <td>...</td>\n",
       "      <td>...</td>\n",
       "      <td>...</td>\n",
       "      <td>...</td>\n",
       "      <td>...</td>\n",
       "      <td>...</td>\n",
       "    </tr>\n",
       "    <tr>\n",
       "      <th>2021-07-23</th>\n",
       "      <td>2021-07-23</td>\n",
       "      <td>147.550003</td>\n",
       "      <td>148.720001</td>\n",
       "      <td>146.919998</td>\n",
       "      <td>148.559998</td>\n",
       "      <td>148.559998</td>\n",
       "      <td>71361600.0</td>\n",
       "    </tr>\n",
       "    <tr>\n",
       "      <th>2021-07-26</th>\n",
       "      <td>2021-07-26</td>\n",
       "      <td>148.270004</td>\n",
       "      <td>149.830002</td>\n",
       "      <td>147.699997</td>\n",
       "      <td>148.990005</td>\n",
       "      <td>148.990005</td>\n",
       "      <td>72269700.0</td>\n",
       "    </tr>\n",
       "    <tr>\n",
       "      <th>2021-07-27</th>\n",
       "      <td>2021-07-27</td>\n",
       "      <td>149.119995</td>\n",
       "      <td>149.210007</td>\n",
       "      <td>145.550003</td>\n",
       "      <td>146.770004</td>\n",
       "      <td>146.770004</td>\n",
       "      <td>103580300.0</td>\n",
       "    </tr>\n",
       "    <tr>\n",
       "      <th>2021-07-28</th>\n",
       "      <td>2021-07-28</td>\n",
       "      <td>144.809998</td>\n",
       "      <td>146.970001</td>\n",
       "      <td>142.539993</td>\n",
       "      <td>144.979996</td>\n",
       "      <td>144.979996</td>\n",
       "      <td>118834300.0</td>\n",
       "    </tr>\n",
       "    <tr>\n",
       "      <th>2021-07-29</th>\n",
       "      <td>2021-07-29</td>\n",
       "      <td>144.690002</td>\n",
       "      <td>146.550003</td>\n",
       "      <td>144.580002</td>\n",
       "      <td>145.639999</td>\n",
       "      <td>145.639999</td>\n",
       "      <td>56699500.0</td>\n",
       "    </tr>\n",
       "  </tbody>\n",
       "</table>\n",
       "<p>397 rows × 7 columns</p>\n",
       "</div>"
      ],
      "text/plain": [
       "                  Date        Open        High         Low       Close  \\\n",
       "Date                                                                     \n",
       "2020-01-02  2020-01-02   74.059998   75.150002   73.797501   75.087502   \n",
       "2020-01-03  2020-01-03   74.287498   75.144997   74.125000   74.357498   \n",
       "2020-01-06  2020-01-06   73.447502   74.989998   73.187500   74.949997   \n",
       "2020-01-07  2020-01-07   74.959999   75.224998   74.370003   74.597504   \n",
       "2020-01-08  2020-01-08   74.290001   76.110001   74.290001   75.797501   \n",
       "...                ...         ...         ...         ...         ...   \n",
       "2021-07-23  2021-07-23  147.550003  148.720001  146.919998  148.559998   \n",
       "2021-07-26  2021-07-26  148.270004  149.830002  147.699997  148.990005   \n",
       "2021-07-27  2021-07-27  149.119995  149.210007  145.550003  146.770004   \n",
       "2021-07-28  2021-07-28  144.809998  146.970001  142.539993  144.979996   \n",
       "2021-07-29  2021-07-29  144.690002  146.550003  144.580002  145.639999   \n",
       "\n",
       "             Adj Close       Volume  \n",
       "Date                                 \n",
       "2020-01-02   74.207466  135480400.0  \n",
       "2020-01-03   73.486023  146322800.0  \n",
       "2020-01-06   74.071579  118387200.0  \n",
       "2020-01-07   73.723213  108872000.0  \n",
       "2020-01-08   74.909149  132079200.0  \n",
       "...                ...          ...  \n",
       "2021-07-23  148.559998   71361600.0  \n",
       "2021-07-26  148.990005   72269700.0  \n",
       "2021-07-27  146.770004  103580300.0  \n",
       "2021-07-28  144.979996  118834300.0  \n",
       "2021-07-29  145.639999   56699500.0  \n",
       "\n",
       "[397 rows x 7 columns]"
      ]
     },
     "execution_count": 3,
     "metadata": {},
     "output_type": "execute_result"
    }
   ],
   "source": [
    "issue = 'AAPL'\n",
    "d = LocalDB()\n",
    "candle = d.loader(issue, start = '2020/01/01', end = datetime.date.today())\n",
    "candle"
   ]
  },
  {
   "cell_type": "markdown",
   "metadata": {},
   "source": [
    "## Select basic strategy"
   ]
  },
  {
   "cell_type": "code",
   "execution_count": 4,
   "metadata": {},
   "outputs": [
    {
     "data": {
      "text/plain": [
       "{'span': array([ 7,  8,  9, 21, 23, 26, 42, 45, 48, 52]),\n",
       " 'buy_ratio': array([-100,  -90,  -80,  -70]),\n",
       " 'sell_ratio': array([ 70,  80,  90, 100])}"
      ]
     },
     "execution_count": 4,
     "metadata": {},
     "output_type": "execute_result"
    }
   ],
   "source": [
    "# RCI Cross Strategy\n",
    "strategy = bst.RCICross\n",
    "strategy.candle = candle\n",
    "params = strategy.base_params()\n",
    "params"
   ]
  },
  {
   "cell_type": "markdown",
   "metadata": {},
   "source": [
    "## backtest of all parameter"
   ]
  },
  {
   "cell_type": "code",
   "execution_count": 5,
   "metadata": {},
   "outputs": [
    {
     "name": "stdout",
     "output_type": "stream",
     "text": [
      "52 -70 100\n"
     ]
    }
   ],
   "source": [
    "ef, i = np.zeros(len(params['span'])*len(params['buy_ratio'])*len(params['sell_ratio'])), 0\n",
    "best_p1, best_p2, best_p3 = 0, 0, 0\n",
    "\n",
    "for p1 in params['span']:\n",
    "        for p2 in params['buy_ratio']:\n",
    "                for p3 in params['sell_ratio']:\n",
    "                        strategy.span = p1\n",
    "                        strategy.buy_ratio = p2\n",
    "                        strategy.sell_ratio = p3\n",
    "                        tester = bst.Btest(\n",
    "                                data = candle,\n",
    "                                strategy = strategy,\n",
    "                                cash = 1000,\n",
    "                                commission = 0.00495,\n",
    "                                margin = 1.0,\n",
    "                                trade_on_close = True,\n",
    "                                exclusive_orders = True\n",
    "                                )\n",
    "                        output = tester.run()\n",
    "                        ef[i] = output['Equity Final [$]']\n",
    "                        i += 1\n",
    "                        if ef.max() > output['Equity Final [$]']:\n",
    "                                best_p1 = p1\n",
    "                                best_p2 = p2\n",
    "                                best_p3 = p3\n",
    "print(best_p1, best_p2, best_p3)"
   ]
  },
  {
   "cell_type": "markdown",
   "metadata": {},
   "source": [
    "## best parameter"
   ]
  },
  {
   "cell_type": "code",
   "execution_count": 6,
   "metadata": {},
   "outputs": [
    {
     "data": {
      "text/plain": [
       "Start                     2020-01-02 00:00:00\n",
       "End                       2021-07-29 00:00:00\n",
       "Duration                    574 days 00:00:00\n",
       "Exposure Time [%]                   85.390428\n",
       "Equity Final [$]                   2323.03345\n",
       "Equity Peak [$]                   2389.753421\n",
       "Return [%]                         132.303345\n",
       "Buy & Hold Return [%]               93.960375\n",
       "Return (Ann.) [%]                   70.748786\n",
       "Volatility (Ann.) [%]               54.916344\n",
       "Sharpe Ratio                         1.288301\n",
       "Sortino Ratio                         3.54817\n",
       "Calmar Ratio                         3.493349\n",
       "Max. Drawdown [%]                  -20.252425\n",
       "Avg. Drawdown [%]                   -4.109264\n",
       "Max. Drawdown Duration      162 days 00:00:00\n",
       "Avg. Drawdown Duration       20 days 00:00:00\n",
       "# Trades                                    2\n",
       "Win Rate [%]                            100.0\n",
       "Best Trade [%]                      98.658217\n",
       "Worst Trade [%]                     17.729622\n",
       "Avg. Trade [%]                      52.931216\n",
       "Max. Trade Duration         363 days 00:00:00\n",
       "Avg. Trade Duration         245 days 00:00:00\n",
       "Profit Factor                             NaN\n",
       "Expectancy [%]                      58.193919\n",
       "SQN                                   2.11901\n",
       "_strategy                            RCICross\n",
       "_equity_curve                             ...\n",
       "_trades                      Size  EntryBa...\n",
       "dtype: object"
      ]
     },
     "execution_count": 6,
     "metadata": {},
     "output_type": "execute_result"
    }
   ],
   "source": [
    "strategy.p1 = best_p1\n",
    "strategy.p2 = best_p2\n",
    "strategy.p3 = best_p3\n",
    "tester = bst.Btest(\n",
    "        data = candle,\n",
    "        strategy = strategy,\n",
    "        cash = 1000,\n",
    "        commission = 0.00495,\n",
    "        margin = 1.0,\n",
    "        trade_on_close = True,\n",
    "        exclusive_orders = True\n",
    "        )\n",
    "output = tester.run()\n",
    "output"
   ]
  },
  {
   "cell_type": "markdown",
   "metadata": {},
   "source": [
    "## Save .html"
   ]
  },
  {
   "cell_type": "code",
   "execution_count": 7,
   "metadata": {},
   "outputs": [
    {
     "name": "stderr",
     "output_type": "stream",
     "text": [
      "BokehDeprecationWarning: HSL() was deprecated in Bokeh 2.3.1 and will be removed, use RGB() or named colors instead.\n",
      "BokehDeprecationWarning: HSL() was deprecated in Bokeh 2.3.1 and will be removed, use RGB() or named colors instead.\n",
      "BokehDeprecationWarning: HSL() was deprecated in Bokeh 2.3.1 and will be removed, use RGB() or named colors instead.\n",
      "BokehDeprecationWarning: HSL() was deprecated in Bokeh 2.3.1 and will be removed, use RGB() or named colors instead.\n"
     ]
    }
   ],
   "source": [
    "p = tester.plot(issue=issue, open_browser=True)"
   ]
  },
  {
   "cell_type": "markdown",
   "metadata": {},
   "source": [
    "## Show with mplfinance"
   ]
  },
  {
   "cell_type": "code",
   "execution_count": 8,
   "metadata": {},
   "outputs": [
    {
     "data": {
      "image/png": "[encoded data removed]",
      "text/plain": [
       "<Figure size 1725x575 with 4 Axes>"
      ]
     },
     "metadata": {},
     "output_type": "display_data"
    }
   ],
   "source": [
    "import mplfinance as mpf\n",
    "import pandas as pd\n",
    "buy = pd.DataFrame(data = output['_equity_curve']['Equity'][output['_trades']['EntryBar']], index=output['_equity_curve'].index)\n",
    "sell = pd.DataFrame(data = output['_equity_curve']['Equity'][output['_trades']['ExitBar']], index=output['_equity_curve'].index)\n",
    "# Show with Jupyter Notebook\n",
    "# idc = mpf.make_addplot(indicator.rci(candle, best_p1))\n",
    "apds = [mpf.make_addplot(buy,type='scatter',markersize=200,marker='*'),\n",
    "        mpf.make_addplot(buy,type='scatter',markersize=200,marker='*')]\n",
    "\n",
    "mpf.plot(candle, type='candle', figratio=(12,4),\n",
    "         volume=True, style='yahoo', addplot=apds)"
   ]
  },
  {
   "cell_type": "markdown",
   "metadata": {},
   "source": [
    "## Equity data"
   ]
  },
  {
   "cell_type": "code",
   "execution_count": 9,
   "metadata": {},
   "outputs": [
    {
     "name": "stdout",
     "output_type": "stream",
     "text": [
      "                 Equity  DrawdownPct DrawdownDuration\n",
      "2020-01-02  1000.000000     0.000000              NaT\n",
      "2020-01-03  1000.000000     0.000000              NaT\n",
      "2020-01-06  1000.000000     0.000000              NaT\n",
      "2020-01-07  1000.000000     0.000000              NaT\n",
      "2020-01-08  1000.000000     0.000000              NaT\n",
      "...                 ...          ...              ...\n",
      "2021-07-23  2380.313480     0.003950              NaT\n",
      "2021-07-26  2387.193607     0.001071              NaT\n",
      "2021-07-27  2351.673587     0.015935              NaT\n",
      "2021-07-28  2323.033450     0.027919              NaT\n",
      "2021-07-29  2323.033450     0.027919          15 days\n",
      "\n",
      "[397 rows x 3 columns]\n"
     ]
    }
   ],
   "source": [
    "print(output['_equity_curve'])"
   ]
  },
  {
   "cell_type": "markdown",
   "metadata": {},
   "source": [
    "## Trade data"
   ]
  },
  {
   "cell_type": "code",
   "execution_count": 10,
   "metadata": {},
   "outputs": [
    {
     "name": "stdout",
     "output_type": "stream",
     "text": [
      "   Size  EntryBar  ExitBar  EntryPrice   ExitPrice         PnL  ReturnPct  \\\n",
      "0    16        57      307   61.683832  122.540001  973.698701   0.986582   \n",
      "1    16       307      395  123.146574  144.979996  349.334749   0.177296   \n",
      "\n",
      "   EntryTime   ExitTime Duration  \n",
      "0 2020-03-25 2021-03-23 363 days  \n",
      "1 2021-03-23 2021-07-28 127 days  \n"
     ]
    }
   ],
   "source": [
    "print(output['_trades'])"
   ]
  },
  {
   "cell_type": "code",
   "execution_count": null,
   "metadata": {},
   "outputs": [],
   "source": []
  }
 ],
 "metadata": {
  "interpreter": {
   "hash": "0ce2083a027c721fa86e0b97ceb030b0e045c2f3fe84771bf26152c596bb2013"
  },
  "kernelspec": {
   "display_name": "Python 3.8.1 64-bit ('mymo': conda)",
   "name": "python3"
  },
  "language_info": {
   "codemirror_mode": {
    "name": "ipython",
    "version": 3
   },
   "file_extension": ".py",
   "mimetype": "text/x-python",
   "name": "python",
   "nbconvert_exporter": "python",
   "pygments_lexer": "ipython3",
   "version": "3.8.1"
  },
  "orig_nbformat": 4
 },
 "nbformat": 4,
 "nbformat_minor": 2
}